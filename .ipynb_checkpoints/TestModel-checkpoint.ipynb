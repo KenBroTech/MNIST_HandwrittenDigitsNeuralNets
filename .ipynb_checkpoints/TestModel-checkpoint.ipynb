{
 "cells": [
  {
   "cell_type": "code",
   "execution_count": 3,
   "id": "daf0595a",
   "metadata": {},
   "outputs": [],
   "source": [
    "import cv2\n",
    "import time\n",
    "\n",
    "TIMER = int(3)\n",
    "# Open the camera\n",
    "cap = cv2.VideoCapture(0)\n",
    "\n",
    "while True:\n",
    "    ret, img = cap.read()\n",
    "    cv2.imshow('a', img)\n",
    "    k = cv2.waitKey(125)\n",
    "    if k == ord('q'):\n",
    "        prev = time.time()\n",
    "        while TIMER >= 0:\n",
    "            ret, img = cap.read()\n",
    "            font = cv2.FONT_HERSHEY_TRIPLEX\n",
    "            cv2.putText(img, str(TIMER),(200, 250), font, 7, (0, 255, 255), 4, cv2.LINE_AA)\n",
    "            cv2.imshow('a', img)\n",
    "            cv2.waitKey(125)\n",
    "            cur = time.time()\n",
    "            if cur-prev >= 1:\n",
    "                prev = cur\n",
    "                TIMER -= 1\n",
    "        else:\n",
    "            ret, img = cap.read()\n",
    "            cv2.imshow('a', img)\n",
    "            cv2.waitKey(2000)\n",
    "            cv2.imwrite('digit_image.jpg', img)\n",
    "    elif k == 27:\n",
    "        break\n",
    "cap.release()\n",
    "cv2.destroyAllWindows()\n"
   ]
  },
  {
   "cell_type": "code",
   "execution_count": null,
   "id": "2a2f6c8c",
   "metadata": {},
   "outputs": [],
   "source": []
  }
 ],
 "metadata": {
  "kernelspec": {
   "display_name": "Python 3",
   "language": "python",
   "name": "python3"
  },
  "language_info": {
   "codemirror_mode": {
    "name": "ipython",
    "version": 3
   },
   "file_extension": ".py",
   "mimetype": "text/x-python",
   "name": "python",
   "nbconvert_exporter": "python",
   "pygments_lexer": "ipython3",
   "version": "3.9.1"
  }
 },
 "nbformat": 4,
 "nbformat_minor": 5
}
