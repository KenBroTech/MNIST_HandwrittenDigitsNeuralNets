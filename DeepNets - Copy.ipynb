{
 "cells": [
  {
   "cell_type": "markdown",
   "id": "3750f8e5",
   "metadata": {},
   "source": [
    "# Deep Neural Network Model using MNIST Handwritten Digits Dataset"
   ]
  },
  {
   "cell_type": "markdown",
   "id": "01d34060",
   "metadata": {},
   "source": [
    "# MNIST Handwritten Digits Dataset\n",
    "<p style='font-size:20px; line-height:30px'>The Modified National Institude of Standards and Technology (MNIST) dataset for handwritten digits is a widely used dataset which contains 60,000 handwritten digits for training a machine learning model and 10,000 handwritten digits for testing the model. It was introduced in 1998 and has become a standard benchmark for many classification tasks.</p>"
   ]
  },
  {
   "cell_type": "markdown",
   "id": "36c992a7",
   "metadata": {},
   "source": [
    "# Objectives\n",
    "\n",
    "- To develop a machine learning model using a deep neural network architecture\n",
    "- Use the MNIST Handwritten dataset to train the model\n",
    "- Do a perfomance analysis on the Deep Neural Network model\n",
    "- Use the developed model to make predictions\n",
    "- Save model and deploy"
   ]
  },
  {
   "cell_type": "markdown",
   "id": "293455fa",
   "metadata": {},
   "source": [
    "# MNIST Fashion Dataset\n",
    "\n",
    "<h3 style=\"color:red\">Read more on the MNIST Fashion Dataset</h3>\n",
    "\n",
    "[Link to MNIST Fashion Dataset](https://www.tensorflow.org/datasets/catalog/fashion_mnist)\n"
   ]
  },
  {
   "cell_type": "code",
   "execution_count": null,
   "id": "5a43ace2",
   "metadata": {},
   "outputs": [],
   "source": [
    "# Import Libraries --- [keras, sklearn, numpy, pandas, tensorflow, matplotlib]\n",
    "import keras\n",
    "import sklearn\n",
    "import numpy as np\n",
    "import pandas as pd\n",
    "import tensorflow as tf\n",
    "import matplotlib.pyplot as plt"
   ]
  },
  {
   "cell_type": "code",
   "execution_count": 286,
   "id": "6b8905e6",
   "metadata": {},
   "outputs": [],
   "source": [
    "# Load MNIST Fashion Dataset\n",
    "dataset = tf.keras.datasets"
   ]
  },
  {
   "cell_type": "code",
   "execution_count": 361,
   "id": "ddc0c0c3",
   "metadata": {},
   "outputs": [],
   "source": [
    "# Slipt data into train and test part\n"
   ]
  },
  {
   "cell_type": "code",
   "execution_count": 359,
   "id": "9a37ec46",
   "metadata": {},
   "outputs": [],
   "source": [
    "# Inspect Data [shape, ndim]\n"
   ]
  },
  {
   "cell_type": "markdown",
   "id": "5adc9def",
   "metadata": {},
   "source": [
    "# How Images are formed\n",
    "\n",
    "### 1.  Images are formed when white light reflects off an object onto a film\n",
    "\n",
    "![imagespec](imagespec.jpg)\n",
    "\n",
    "### 2. The visibility range; in retrospect, is the white light range made of the 7 rainbow colours [Red, Orange, Yellow, Green, Blue, Indigo and Violet]\n",
    "\n",
    "### 3. In a digital representation, images are basically a grid made up of a combination of colours \n",
    "\n",
    "\n",
    "![gridimage](grid.jpg)\n",
    "\n",
    "### 4.  Each grid is a pixel made up of colours [ Note: a combination of the primary colours can generate any other colour]\n",
    "\n",
    "![gridimage2](pixel.jpg)\n",
    "\n",
    "### 5.  In Computer Vision, the RGB (Red, Green, Blue) colour ratio is used\n",
    "\n",
    "### 6.  Each pixel is a combination of the intensity of the RGB ratio ranging from 0 - 255\n",
    "\n",
    "### 7.  Colours in terms of RGB ratio \n",
    "- RED =    (255, 0, 0)\n",
    "- GREEN =  (0, 255, 0)\n",
    "- BLUE =   (0, 0, 255)\n",
    "- YELLOW = (255, 255, 0)\n",
    "- BLACK = (0, 0, 0)\n",
    "- WHITE = (255, 255, 255)"
   ]
  },
  {
   "cell_type": "code",
   "execution_count": 358,
   "id": "9319b658",
   "metadata": {},
   "outputs": [],
   "source": [
    "# show image\n"
   ]
  },
  {
   "cell_type": "code",
   "execution_count": 357,
   "id": "4fb17466",
   "metadata": {},
   "outputs": [],
   "source": [
    "# Show unique Training Labels [Classes]\n"
   ]
  },
  {
   "cell_type": "code",
   "execution_count": 296,
   "id": "aea6191a",
   "metadata": {},
   "outputs": [],
   "source": [
    "# Add Actual Names to Categorical Class Labels\n",
    "# class_names = ['T-shirt/top', 'Trouser', 'Pullover', 'Dress', 'Coat', 'Sandal', 'Shirt', 'Sneaker', 'Bag', 'Ankle boot']\n"
   ]
  },
  {
   "cell_type": "code",
   "execution_count": 297,
   "id": "1e72ee51",
   "metadata": {},
   "outputs": [],
   "source": [
    "# Normalize Data\n"
   ]
  },
  {
   "cell_type": "code",
   "execution_count": null,
   "id": "b92e5efc",
   "metadata": {},
   "outputs": [],
   "source": [
    "# Show Images and their corresponding Labels\n"
   ]
  },
  {
   "cell_type": "code",
   "execution_count": 298,
   "id": "d881eae7",
   "metadata": {},
   "outputs": [],
   "source": [
    "# Build Deep Neural Network Model\n"
   ]
  },
  {
   "cell_type": "code",
   "execution_count": 356,
   "id": "e7239d18",
   "metadata": {},
   "outputs": [],
   "source": [
    "# Check Model Summary\n"
   ]
  },
  {
   "cell_type": "code",
   "execution_count": null,
   "id": "3671489a",
   "metadata": {},
   "outputs": [],
   "source": [
    "# Check Initial Weights\n"
   ]
  },
  {
   "cell_type": "code",
   "execution_count": 354,
   "id": "07a9d49d",
   "metadata": {},
   "outputs": [],
   "source": [
    "# Compile Model \n"
   ]
  },
  {
   "cell_type": "code",
   "execution_count": 355,
   "id": "ee08acf5",
   "metadata": {},
   "outputs": [],
   "source": [
    "# Fit Model\n"
   ]
  },
  {
   "cell_type": "code",
   "execution_count": 304,
   "id": "53a2af2d",
   "metadata": {},
   "outputs": [],
   "source": [
    "# Check Final Weights\n"
   ]
  },
  {
   "cell_type": "code",
   "execution_count": 305,
   "id": "a8790f90",
   "metadata": {},
   "outputs": [],
   "source": [
    "# Plot Accuracy and Loss\n"
   ]
  },
  {
   "cell_type": "code",
   "execution_count": 353,
   "id": "f277b05c",
   "metadata": {},
   "outputs": [],
   "source": [
    "# Evaluate Model\n"
   ]
  },
  {
   "cell_type": "code",
   "execution_count": 315,
   "id": "066f93e7",
   "metadata": {},
   "outputs": [],
   "source": [
    "# Make Predictions with Test Part of Dataset\n"
   ]
  }
 ],
 "metadata": {
  "kernelspec": {
   "display_name": "Python 3",
   "language": "python",
   "name": "python3"
  },
  "language_info": {
   "codemirror_mode": {
    "name": "ipython",
    "version": 3
   },
   "file_extension": ".py",
   "mimetype": "text/x-python",
   "name": "python",
   "nbconvert_exporter": "python",
   "pygments_lexer": "ipython3",
   "version": "3.9.1"
  }
 },
 "nbformat": 4,
 "nbformat_minor": 5
}
